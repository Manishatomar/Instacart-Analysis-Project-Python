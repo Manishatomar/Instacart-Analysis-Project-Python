{
 "cells": [
  {
   "cell_type": "markdown",
   "id": "24ff015f-4c87-499b-bb5b-8751259feaa3",
   "metadata": {},
   "source": [
    "## 01. Importing libraries"
   ]
  },
  {
   "cell_type": "code",
   "execution_count": 3,
   "id": "ec375dc9-6fb7-4181-97f9-3266af614896",
   "metadata": {},
   "outputs": [],
   "source": [
    "# Importing libraries\n",
    "import pandas as pd\n",
    "import numpy as np\n",
    "import os"
   ]
  },
  {
   "cell_type": "markdown",
   "id": "3e4ad4de-3d11-4978-93a4-e06bcb75a809",
   "metadata": {},
   "source": [
    "## 02. Data types"
   ]
  },
  {
   "cell_type": "code",
   "execution_count": 12,
   "id": "a7d237e4-d99b-4200-b57b-33f49b986d1f",
   "metadata": {},
   "outputs": [],
   "source": [
    "x = 2"
   ]
  },
  {
   "cell_type": "code",
   "execution_count": 9,
   "id": "ccb30174-5b64-41c2-9bd6-67a3ce30635d",
   "metadata": {},
   "outputs": [
    {
     "data": {
      "text/plain": [
       "2"
      ]
     },
     "execution_count": 9,
     "metadata": {},
     "output_type": "execute_result"
    }
   ],
   "source": [
    "x"
   ]
  },
  {
   "cell_type": "code",
   "execution_count": 13,
   "id": "fb12f68a-53f8-4182-9560-46d71d85dc61",
   "metadata": {},
   "outputs": [
    {
     "name": "stdout",
     "output_type": "stream",
     "text": [
      "2\n"
     ]
    }
   ],
   "source": [
    "print(x)\n"
   ]
  },
  {
   "cell_type": "markdown",
   "id": "21ef0ad1-36fc-453b-83c4-d6b18d03fa0d",
   "metadata": {},
   "source": [
    "## 03. Checking the Data Type of a Variable"
   ]
  },
  {
   "cell_type": "code",
   "execution_count": 16,
   "id": "d9198db1-81fc-4063-adbb-42ca97326f50",
   "metadata": {},
   "outputs": [
    {
     "data": {
      "text/plain": [
       "int"
      ]
     },
     "execution_count": 16,
     "metadata": {},
     "output_type": "execute_result"
    }
   ],
   "source": [
    "type(x)"
   ]
  },
  {
   "cell_type": "code",
   "execution_count": 17,
   "id": "8444a2a5-df97-4924-a02a-e2ce0a67f055",
   "metadata": {},
   "outputs": [],
   "source": [
    "y = 5.678"
   ]
  },
  {
   "cell_type": "code",
   "execution_count": 18,
   "id": "3332ea79-4520-4109-aee0-5048fdc04b21",
   "metadata": {},
   "outputs": [
    {
     "data": {
      "text/plain": [
       "float"
      ]
     },
     "execution_count": 18,
     "metadata": {},
     "output_type": "execute_result"
    }
   ],
   "source": [
    "type(y)"
   ]
  },
  {
   "cell_type": "code",
   "execution_count": 19,
   "id": "5f846139-4a41-495c-8923-08a3e83b6cb7",
   "metadata": {},
   "outputs": [],
   "source": [
    "z='Brazil'"
   ]
  },
  {
   "cell_type": "code",
   "execution_count": 20,
   "id": "9643c141-e273-4069-88b4-16b2528c946c",
   "metadata": {},
   "outputs": [
    {
     "data": {
      "text/plain": [
       "str"
      ]
     },
     "execution_count": 20,
     "metadata": {},
     "output_type": "execute_result"
    }
   ],
   "source": [
    "type(z)"
   ]
  },
  {
   "cell_type": "code",
   "execution_count": 22,
   "id": "8a05bd5f-6d37-4e50-be32-cd54a1a8228a",
   "metadata": {},
   "outputs": [
    {
     "data": {
      "text/plain": [
       "bool"
      ]
     },
     "execution_count": 22,
     "metadata": {},
     "output_type": "execute_result"
    }
   ],
   "source": [
    "type(True)"
   ]
  },
  {
   "cell_type": "code",
   "execution_count": 23,
   "id": "370526a3-f023-4de0-ab48-e09e0f21a0f4",
   "metadata": {},
   "outputs": [
    {
     "data": {
      "text/plain": [
       "bool"
      ]
     },
     "execution_count": 23,
     "metadata": {},
     "output_type": "execute_result"
    }
   ],
   "source": [
    "type(False)"
   ]
  },
  {
   "cell_type": "markdown",
   "id": "4bf233d1-2385-4068-a7d8-86dba9815d8b",
   "metadata": {},
   "source": [
    "## 04. Mathematical Operations"
   ]
  },
  {
   "cell_type": "code",
   "execution_count": 24,
   "id": "e1ac16a9-b3f9-42a6-9bcc-89e92ff0a3d9",
   "metadata": {},
   "outputs": [
    {
     "name": "stdout",
     "output_type": "stream",
     "text": [
      "2\n"
     ]
    }
   ],
   "source": [
    "print(x)"
   ]
  },
  {
   "cell_type": "code",
   "execution_count": 25,
   "id": "ac8918fc-278f-464f-afd9-d0cb3045c076",
   "metadata": {},
   "outputs": [
    {
     "data": {
      "text/plain": [
       "6"
      ]
     },
     "execution_count": 25,
     "metadata": {},
     "output_type": "execute_result"
    }
   ],
   "source": [
    "x + 4"
   ]
  },
  {
   "cell_type": "code",
   "execution_count": 26,
   "id": "f6e49676-b757-42ba-8928-ceb9d7ad5e55",
   "metadata": {},
   "outputs": [],
   "source": [
    "x=x+4"
   ]
  },
  {
   "cell_type": "code",
   "execution_count": 27,
   "id": "a2edc869-3152-494a-96a4-963843dab136",
   "metadata": {},
   "outputs": [
    {
     "name": "stdout",
     "output_type": "stream",
     "text": [
      "6\n"
     ]
    }
   ],
   "source": [
    "print(x)"
   ]
  },
  {
   "cell_type": "code",
   "execution_count": 36,
   "id": "b8328f7a-4b46-430f-b851-b33592a83dc3",
   "metadata": {},
   "outputs": [],
   "source": [
    "a = 'Hello,'"
   ]
  },
  {
   "cell_type": "code",
   "execution_count": 38,
   "id": "0862522f-054f-4512-92a5-5b1d488573df",
   "metadata": {},
   "outputs": [],
   "source": [
    "b = 'Marley'"
   ]
  },
  {
   "cell_type": "code",
   "execution_count": 39,
   "id": "4417e4ae-aba3-4ea5-9d08-2ea11d007903",
   "metadata": {},
   "outputs": [
    {
     "data": {
      "text/plain": [
       "'Hello,Marley'"
      ]
     },
     "execution_count": 39,
     "metadata": {},
     "output_type": "execute_result"
    }
   ],
   "source": [
    "a+b"
   ]
  },
  {
   "cell_type": "code",
   "execution_count": 40,
   "id": "e7ca2a8f-3034-421f-b9ac-6a137e3d8695",
   "metadata": {},
   "outputs": [
    {
     "data": {
      "text/plain": [
       "False"
      ]
     },
     "execution_count": 40,
     "metadata": {},
     "output_type": "execute_result"
    }
   ],
   "source": [
    "x==y"
   ]
  },
  {
   "cell_type": "code",
   "execution_count": 41,
   "id": "6b3172bb-a798-45f2-bc36-81f99549e83e",
   "metadata": {},
   "outputs": [
    {
     "data": {
      "text/plain": [
       "bool"
      ]
     },
     "execution_count": 41,
     "metadata": {},
     "output_type": "execute_result"
    }
   ],
   "source": [
    "type(x==y)"
   ]
  },
  {
   "cell_type": "markdown",
   "id": "4f950a35-76a3-44d7-ba66-caedde5612e6",
   "metadata": {},
   "source": [
    "## Task 4. Q.7"
   ]
  },
  {
   "cell_type": "code",
   "execution_count": 45,
   "id": "14c6d05f-efbf-4fe2-9258-cbf2ac550238",
   "metadata": {},
   "outputs": [],
   "source": [
    "# 1st Way\n",
    "x=60"
   ]
  },
  {
   "cell_type": "code",
   "execution_count": 43,
   "id": "5f1ebfc7-b749-414c-b6eb-90551a2c0cd8",
   "metadata": {},
   "outputs": [],
   "source": [
    "y=40"
   ]
  },
  {
   "cell_type": "code",
   "execution_count": 44,
   "id": "d35ee295-7107-434b-8503-22a55549c63c",
   "metadata": {},
   "outputs": [
    {
     "data": {
      "text/plain": [
       "100"
      ]
     },
     "execution_count": 44,
     "metadata": {},
     "output_type": "execute_result"
    }
   ],
   "source": [
    "x+y"
   ]
  },
  {
   "cell_type": "code",
   "execution_count": 47,
   "id": "44f4c746-a743-4167-8d55-c5b65c31d246",
   "metadata": {},
   "outputs": [],
   "source": [
    "# 2nd Way\n",
    "a=120"
   ]
  },
  {
   "cell_type": "code",
   "execution_count": 48,
   "id": "cddd8b4f-fa2c-4050-8042-6896baa3ef9e",
   "metadata": {},
   "outputs": [],
   "source": [
    "b=20"
   ]
  },
  {
   "cell_type": "code",
   "execution_count": 49,
   "id": "7575a846-7242-4d39-b3e0-191272183fb5",
   "metadata": {},
   "outputs": [
    {
     "data": {
      "text/plain": [
       "100"
      ]
     },
     "execution_count": 49,
     "metadata": {},
     "output_type": "execute_result"
    }
   ],
   "source": [
    "a-b"
   ]
  },
  {
   "cell_type": "code",
   "execution_count": 51,
   "id": "46f3d608-8c6c-4471-a480-53886a277835",
   "metadata": {},
   "outputs": [],
   "source": [
    "# 3rd Way\n",
    "c=80"
   ]
  },
  {
   "cell_type": "code",
   "execution_count": 52,
   "id": "23409597-687a-4bd0-9f50-7ad5673dd660",
   "metadata": {},
   "outputs": [],
   "source": [
    "d=40"
   ]
  },
  {
   "cell_type": "code",
   "execution_count": 53,
   "id": "1d2e1bf0-70f2-4798-af2d-4547af648b7d",
   "metadata": {},
   "outputs": [],
   "source": [
    "e=20"
   ]
  },
  {
   "cell_type": "code",
   "execution_count": 54,
   "id": "d3d1fe34-da9b-4e06-9ba8-e9d7c5f9e774",
   "metadata": {},
   "outputs": [
    {
     "data": {
      "text/plain": [
       "100"
      ]
     },
     "execution_count": 54,
     "metadata": {},
     "output_type": "execute_result"
    }
   ],
   "source": [
    "c+d-e"
   ]
  },
  {
   "cell_type": "markdown",
   "id": "dcaa2777-b304-483e-9fa8-74ba48e96567",
   "metadata": {},
   "source": [
    "## Task 4. Q.8"
   ]
  },
  {
   "cell_type": "code",
   "execution_count": 55,
   "id": "c7f37cc4-5476-4033-bea6-93baa3dc784a",
   "metadata": {},
   "outputs": [],
   "source": [
    "a=3.5"
   ]
  },
  {
   "cell_type": "code",
   "execution_count": 56,
   "id": "b3ccda02-2fc2-4c43-8d97-ed5485a18d41",
   "metadata": {},
   "outputs": [],
   "source": [
    "b=6.2"
   ]
  },
  {
   "cell_type": "code",
   "execution_count": 57,
   "id": "c32f4cc9-2d44-42c5-ac7a-4934f0424c2a",
   "metadata": {},
   "outputs": [
    {
     "data": {
      "text/plain": [
       "1.7714285714285716"
      ]
     },
     "execution_count": 57,
     "metadata": {},
     "output_type": "execute_result"
    }
   ],
   "source": [
    "b/a"
   ]
  },
  {
   "cell_type": "markdown",
   "id": "709649f4-a13f-48b9-98ef-7e5cef39470b",
   "metadata": {},
   "source": [
    "## Task 4. Q.9"
   ]
  },
  {
   "cell_type": "code",
   "execution_count": 63,
   "id": "5ffe557b-4a79-44b9-9a82-2c4a42e02d48",
   "metadata": {},
   "outputs": [],
   "source": [
    "a='Good '"
   ]
  },
  {
   "cell_type": "code",
   "execution_count": 60,
   "id": "f4d67ff2-1807-4b4d-b1c0-9a35b114bc79",
   "metadata": {},
   "outputs": [],
   "source": [
    "b='Morning,'"
   ]
  },
  {
   "cell_type": "code",
   "execution_count": 65,
   "id": "3e7017aa-6357-408a-a94e-72f72a536604",
   "metadata": {},
   "outputs": [],
   "source": [
    "c=' World'"
   ]
  },
  {
   "cell_type": "code",
   "execution_count": 66,
   "id": "0f1925b5-ef65-426a-ba78-764897a9c319",
   "metadata": {},
   "outputs": [
    {
     "data": {
      "text/plain": [
       "'Good Morning, World'"
      ]
     },
     "execution_count": 66,
     "metadata": {},
     "output_type": "execute_result"
    }
   ],
   "source": [
    "a+b+c"
   ]
  },
  {
   "cell_type": "code",
   "execution_count": null,
   "id": "8919f80f-7ce7-4b9b-a152-303a5e917630",
   "metadata": {},
   "outputs": [],
   "source": []
  }
 ],
 "metadata": {
  "kernelspec": {
   "display_name": "Python 3 (ipykernel)",
   "language": "python",
   "name": "python3"
  },
  "language_info": {
   "codemirror_mode": {
    "name": "ipython",
    "version": 3
   },
   "file_extension": ".py",
   "mimetype": "text/x-python",
   "name": "python",
   "nbconvert_exporter": "python",
   "pygments_lexer": "ipython3",
   "version": "3.11.7"
  }
 },
 "nbformat": 4,
 "nbformat_minor": 5
}
