{
 "cells": [
  {
   "cell_type": "markdown",
   "id": "08618dd5-0e7c-43c9-ae00-faef83759011",
   "metadata": {},
   "source": [
    "# 01. Importing Libraries"
   ]
  },
  {
   "cell_type": "code",
   "execution_count": 5,
   "id": "bdb6d5df-f84d-449b-a34b-2549d57d79bd",
   "metadata": {},
   "outputs": [],
   "source": [
    "#Importing Libraries\n",
    "\n",
    "import pandas as pd\n",
    "import numpy as np\n",
    "import os"
   ]
  },
  {
   "cell_type": "markdown",
   "id": "916a28f4-6c51-4225-ab19-66821284293a",
   "metadata": {},
   "source": [
    "# 02. If-Statements with User-Defined Functions"
   ]
  },
  {
   "cell_type": "code",
   "execution_count": 18,
   "id": "130a9ba7-5d41-45b8-a555-f5886825a131",
   "metadata": {},
   "outputs": [],
   "source": [
    "# Define Function\n",
    "\n",
    "def add_num(x,y):\n",
    "    sum = x+y\n",
    "    return sum"
   ]
  },
  {
   "cell_type": "code",
   "execution_count": 22,
   "id": "0786fc18-a68f-4b64-ac23-5938649427aa",
   "metadata": {},
   "outputs": [],
   "source": [
    "# The function starts with a definition, def & given a descriptive name: add_num(). Also, two arguments, x and y, are designated, \n",
    "# which tells Python to always expect two arguments when this function is called.\n",
    "# you’ll tell the function what to do in the body. Here, the two arguments, x and y, are added and assigned to a new variable, sum. \n",
    "# Finally, sum is returned (the value of sum is printed). "
   ]
  },
  {
   "cell_type": "code",
   "execution_count": 20,
   "id": "b22795e1-b967-451d-bcbe-5bf532ba9d5c",
   "metadata": {},
   "outputs": [
    {
     "data": {
      "text/plain": [
       "20"
      ]
     },
     "execution_count": 20,
     "metadata": {},
     "output_type": "execute_result"
    }
   ],
   "source": [
    "# Run Function\n",
    "\n",
    "add_num(9,11)"
   ]
  },
  {
   "cell_type": "code",
   "execution_count": 24,
   "id": "303dbe43-a916-40d2-9a1c-9d72c4253eda",
   "metadata": {},
   "outputs": [],
   "source": [
    "# the function adds the two arguments, 9 and 11, saves the result to the variable sum, then returns the value of sum to the console \n",
    "# for an output of 20"
   ]
  },
  {
   "cell_type": "code",
   "execution_count": null,
   "id": "0b9a0d41-4bdb-4969-9ad5-0fab9d89c7f7",
   "metadata": {},
   "outputs": [],
   "source": []
  }
 ],
 "metadata": {
  "kernelspec": {
   "display_name": "Python 3 (ipykernel)",
   "language": "python",
   "name": "python3"
  },
  "language_info": {
   "codemirror_mode": {
    "name": "ipython",
    "version": 3
   },
   "file_extension": ".py",
   "mimetype": "text/x-python",
   "name": "python",
   "nbconvert_exporter": "python",
   "pygments_lexer": "ipython3",
   "version": "3.12.4"
  }
 },
 "nbformat": 4,
 "nbformat_minor": 5
}
