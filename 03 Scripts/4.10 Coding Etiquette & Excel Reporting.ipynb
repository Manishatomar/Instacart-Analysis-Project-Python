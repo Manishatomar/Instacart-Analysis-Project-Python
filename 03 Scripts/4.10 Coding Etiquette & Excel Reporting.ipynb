{
 "cells": [
  {
   "cell_type": "markdown",
   "id": "a6a8c96a-b686-4c12-8aab-ce4ebc0ae0dd",
   "metadata": {},
   "source": [
    "# 01. Maintaining Clean and Concise Scripts"
   ]
  },
  {
   "cell_type": "markdown",
   "id": "23ccd9fd-460e-40c4-a5ba-00863d523af0",
   "metadata": {},
   "source": [
    "Review this step-by-step process to maintain clean and tidy scripts:"
   ]
  },
  {
   "cell_type": "markdown",
   "id": "4e061e83-6b1e-4b7c-8dce-4a16eaf6d142",
   "metadata": {},
   "source": [
    "1. Before starting your analysis, think of a clear, self-explanatory title for your notebook. It could start with an abbreviation of the project name, a number that corresponds to the step you’re executing, and a name for that step. For example, if you were tasked with conducting consistency checks on your Instacart data, you could have two scripts with titles such as “1. IC Duplicates checks” and “2. IC Missing values checks.”\n",
    "2. Write descriptive comments alongside your code. It’s much easier to do this during the writing process than it is trying to add them in later. Remember that you can write comments via the pound sign (#).\n",
    "3. Create headings that describe what step or steps are being executed in each section of code.\n",
    "4. Once you’re sure about the final result, go through your script, delete any unnecessary cells, and adjust section headings as needed.\n",
    "5. Create a list of contents in a markdown cell just under the main heading of your notebook."
   ]
  },
  {
   "cell_type": "markdown",
   "id": "cc29f1ab-9d25-4cd9-b257-9683d445674d",
   "metadata": {},
   "source": [
    "# 02. Raindrop"
   ]
  },
  {
   "cell_type": "markdown",
   "id": "2143fa62-9820-48eb-bffa-babf8998af9e",
   "metadata": {},
   "source": [
    "\n",
    "Raindrop is a free bookmark management plugin for your browser that helps you organize your saved links. With Raindrop, you can create categories and add tags to bookmarks, making it easier to keep track of code snippets or forum answers for future reference. For example, you can create folders like \"Data Preprocessing,\" \"Missing Values,\" \"Advanced Analysis,\" or use tags for different types of resources. By making this a habit, you'll gradually build a library of resources to reference for various situations in your Python work."
   ]
  },
  {
   "cell_type": "markdown",
   "id": "a7b368fd-bc80-49bd-a9f0-90057e1c9a84",
   "metadata": {},
   "source": [
    "# 03 Using Excel with Python"
   ]
  },
  {
   "cell_type": "markdown",
   "id": "ab2eacd7-0cad-4aa0-9f69-839a1295436d",
   "metadata": {},
   "source": [
    "## Crosstabs in Python"
   ]
  },
  {
   "cell_type": "markdown",
   "id": "1cd19a36-1d3b-40d9-a3b8-1dfc6a90b735",
   "metadata": {},
   "source": [
    "Crosstabs in Python, similar to Excel's pivot tables, are useful for data checks. For example, in Instacart data, you found missing values in the \"days_since_prior_order\" column, likely due to first orders having no prior days. The head() and tail() functions support this, but a crosstab between \"days_since_prior_order\" and \"order_number\" would confirm it. If all missing values align with the first order, your hypothesis is validated. This crosstab can be created via the following code:"
   ]
  },
  {
   "cell_type": "code",
   "execution_count": 12,
   "id": "34d33330-e678-4712-bfd6-f57ac5286d85",
   "metadata": {},
   "outputs": [
    {
     "ename": "NameError",
     "evalue": "name 'pd' is not defined",
     "output_type": "error",
     "traceback": [
      "\u001b[0;31m---------------------------------------------------------------------------\u001b[0m",
      "\u001b[0;31mNameError\u001b[0m                                 Traceback (most recent call last)",
      "Cell \u001b[0;32mIn[12], line 1\u001b[0m\n\u001b[0;32m----> 1\u001b[0m crosstab \u001b[38;5;241m=\u001b[39m pd\u001b[38;5;241m.\u001b[39mcrosstab(ords_prods_merge[\u001b[38;5;124m'\u001b[39m\u001b[38;5;124mdays_since_prior_order\u001b[39m\u001b[38;5;124m'\u001b[39m], ords_prods_merge[\u001b[38;5;124m'\u001b[39m\u001b[38;5;124morder_number\u001b[39m\u001b[38;5;124m'\u001b[39m], dropna \u001b[38;5;241m=\u001b[39m \u001b[38;5;28;01mFalse\u001b[39;00m)\n",
      "\u001b[0;31mNameError\u001b[0m: name 'pd' is not defined"
     ]
    }
   ],
   "source": [
    "crosstab = pd.crosstab(ords_prods_merge['days_since_prior_order'], ords_prods_merge['order_number'], dropna = False)"
   ]
  },
  {
   "cell_type": "markdown",
   "id": "ce795bad-c737-4f46-85eb-c4bcfa108401",
   "metadata": {},
   "source": [
    "The resulting table will be stored in the crosstab object, which might be too large to view directly in Python. To handle this, you can copy the table to your clipboard and paste it into Excel for easier viewing. Use the following command: crosstab.to_clipboard() .After running this code, paste the copied table into a blank Excel workbook."
   ]
  },
  {
   "cell_type": "markdown",
   "id": "65fb1521-8241-497e-8448-8a1884bfb563",
   "metadata": {},
   "source": [
    "Great! Opening your crosstab in Excel allows you to easily scroll through and view your data. By examining where the \"days_since_prior_order\" column intersects with order number 1, you'll notice that the entire column is filled with 0s. This confirms your initial assumption about the missing values, allowing you to safely disregard them."
   ]
  },
  {
   "cell_type": "code",
   "execution_count": null,
   "id": "584ef224-5ed6-49aa-af11-5765884b26c0",
   "metadata": {},
   "outputs": [],
   "source": []
  }
 ],
 "metadata": {
  "kernelspec": {
   "display_name": "Python 3 (ipykernel)",
   "language": "python",
   "name": "python3"
  },
  "language_info": {
   "codemirror_mode": {
    "name": "ipython",
    "version": 3
   },
   "file_extension": ".py",
   "mimetype": "text/x-python",
   "name": "python",
   "nbconvert_exporter": "python",
   "pygments_lexer": "ipython3",
   "version": "3.12.4"
  }
 },
 "nbformat": 4,
 "nbformat_minor": 5
}
